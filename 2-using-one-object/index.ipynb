{
  "cells": [
    {
      "cell_type": "markdown",
      "metadata": {
        "id": "view-in-github",
        "colab_type": "text"
      },
      "source": [
        "<a href=\"https://colab.research.google.com/github/pzulu3030/D3-challenge/blob/main/2-using-one-object/index.ipynb\" target=\"_parent\"><img src=\"https://colab.research.google.com/assets/colab-badge.svg\" alt=\"Open In Colab\"/></a>"
      ]
    },
    {
      "cell_type": "markdown",
      "metadata": {
        "id": "P6iPzoB4xbh-"
      },
      "source": [
        "# Creating One Object"
      ]
    },
    {
      "cell_type": "markdown",
      "metadata": {
        "id": "liQ_gS4nxbiA"
      },
      "source": [
        "## Introduction"
      ]
    },
    {
      "cell_type": "markdown",
      "metadata": {
        "id": "0YecFvmqxbiA"
      },
      "source": [
        "Now that we attempted to refactor on our own, let's get to it with our Texas API code."
      ]
    },
    {
      "cell_type": "markdown",
      "metadata": {
        "id": "s0QN8dBbxbiA"
      },
      "source": [
        "### Creating a single instance"
      ]
    },
    {
      "cell_type": "markdown",
      "metadata": {
        "id": "GOBlPG6IxbiA"
      },
      "source": [
        "Let's start by looking at our original code that we used to call an API."
      ]
    },
    {
      "cell_type": "code",
      "execution_count": 1,
      "metadata": {
        "id": "cqlnpDoVxbiA"
      },
      "outputs": [],
      "source": [
        "import requests\n",
        "response = requests.get(\"https://data.texas.gov/resource/naix-2893.json?location_name=MAX%27S%20WINE%20DIVE\")\n",
        "restaurant_receipts = response.json()"
      ]
    },
    {
      "cell_type": "code",
      "execution_count": 2,
      "metadata": {
        "colab": {
          "base_uri": "https://localhost:8080/"
        },
        "id": "aXUxNrW-xbiB",
        "outputId": "2f5fffc1-accd-49d3-de4b-1253f0052eeb"
      },
      "outputs": [
        {
          "output_type": "execute_result",
          "data": {
            "text/plain": [
              "dict_keys(['taxpayer_number', 'taxpayer_name', 'taxpayer_address', 'taxpayer_city', 'taxpayer_state', 'taxpayer_zip', 'taxpayer_county', 'location_number', 'location_name', 'location_address', 'location_city', 'location_state', 'location_zip', 'location_county', 'inside_outside_city_limits_code_y_n', 'tabc_permit_number', 'responsibility_begin_date_yyyymmdd', 'responsibility_end_date_yyyymmdd', 'obligation_end_date_yyyymmdd', 'liquor_receipts', 'wine_receipts', 'beer_receipts', 'cover_charge_receipts', 'total_receipts'])"
            ]
          },
          "metadata": {},
          "execution_count": 2
        }
      ],
      "source": [
        "restaurant_receipts[0].keys()"
      ]
    },
    {
      "cell_type": "markdown",
      "metadata": {
        "id": "HcpB-6FwxbiB"
      },
      "source": [
        "### Creating our Receipt Class"
      ]
    },
    {
      "cell_type": "markdown",
      "metadata": {
        "id": "E9CI2WqPxbiC"
      },
      "source": [
        "Now the first component that we would like to refactor is how we represent a receipt.  Each receipt is currently dictionary.  Instead, let's change it into an instance of a `Receipt` class."
      ]
    },
    {
      "cell_type": "markdown",
      "metadata": {
        "id": "2GkO-T7wxbiC"
      },
      "source": [
        "The first thing we do is define our class."
      ]
    },
    {
      "cell_type": "code",
      "execution_count": 3,
      "metadata": {
        "id": "I47lI-0FxbiC"
      },
      "outputs": [],
      "source": [
        "class Receipt:\n",
        "    def __init__(self, total, address, end_date, restaurant_name):\n",
        "        self.total = int(total)\n",
        "        self.address = address\n",
        "        self.end_date = end_date\n",
        "        self.restaurant_name = restaurant_name"
      ]
    },
    {
      "cell_type": "markdown",
      "metadata": {
        "id": "CAnpn0NoxbiC"
      },
      "source": [
        "Then we can make sure that it works properly by passing through some data."
      ]
    },
    {
      "cell_type": "code",
      "execution_count": 4,
      "metadata": {
        "id": "eOVj1H76xbiC"
      },
      "outputs": [],
      "source": [
        "receipt = Receipt('1234', '33 blue hill lane', '12/29/2018', \"Max's Wine Bar\")"
      ]
    },
    {
      "cell_type": "code",
      "execution_count": 5,
      "metadata": {
        "colab": {
          "base_uri": "https://localhost:8080/"
        },
        "id": "GQtkWBOkxbiC",
        "outputId": "9acddfcc-4d65-4fe2-fe6c-056819dbc20e"
      },
      "outputs": [
        {
          "output_type": "execute_result",
          "data": {
            "text/plain": [
              "<__main__.Receipt at 0x7f162c326d30>"
            ]
          },
          "metadata": {},
          "execution_count": 5
        }
      ],
      "source": [
        "receipt"
      ]
    },
    {
      "cell_type": "code",
      "execution_count": 6,
      "metadata": {
        "colab": {
          "base_uri": "https://localhost:8080/"
        },
        "id": "G_D57CpIxbiC",
        "outputId": "0aae7878-c0c0-438a-b0f0-2ea55d82779c"
      },
      "outputs": [
        {
          "output_type": "execute_result",
          "data": {
            "text/plain": [
              "{'total': 1234,\n",
              " 'address': '33 blue hill lane',\n",
              " 'end_date': '12/29/2018',\n",
              " 'restaurant_name': \"Max's Wine Bar\"}"
            ]
          },
          "metadata": {},
          "execution_count": 6
        }
      ],
      "source": [
        "receipt.__dict__"
      ]
    },
    {
      "cell_type": "markdown",
      "metadata": {
        "id": "xPgoPL6-xbiC"
      },
      "source": [
        "### 1. Using our API's data to create a receipt"
      ]
    },
    {
      "cell_type": "markdown",
      "metadata": {
        "id": "zWnjNTaIxbiD"
      },
      "source": [
        "The next step, of course, is to pass through some of our actual data.  \n",
        "\n",
        "> Let's give that a shot here:\n",
        "\n",
        "Use the data from the first dictionary returned from our API to create a new `Receipt` instance."
      ]
    },
    {
      "cell_type": "markdown",
      "metadata": {
        "id": "x-njhHGSxbiD"
      },
      "source": [
        "**To begin**, simply select the first receipt from the API, and assign it to the variable `first_receipt_dict`."
      ]
    },
    {
      "cell_type": "code",
      "execution_count": 10,
      "metadata": {
        "id": "J46fQlkSxbiD"
      },
      "outputs": [],
      "source": [
        "first_receipt_dict = restaurant_receipts[0]"
      ]
    },
    {
      "cell_type": "code",
      "source": [
        "total = first_receipt_dict['total_receipts']\n",
        "address = first_receipt_dict['location_address']\n",
        "end_date = first_receipt_dict['obligation_end_date_yyyymmdd']\n",
        "restaurant_name = first_receipt_dict['taxpayer_name']\n",
        "selected_attr = ({'total': total, 'address': address, 'end_date': end_date, 'restaurant_name': restaurant_name})"
      ],
      "metadata": {
        "id": "NFHqMtuYy_1D"
      },
      "execution_count": 17,
      "outputs": []
    },
    {
      "cell_type": "code",
      "source": [
        "selected_attr"
      ],
      "metadata": {
        "colab": {
          "base_uri": "https://localhost:8080/"
        },
        "id": "Dp4gqf_51TVw",
        "outputId": "d2ba55a0-6e1f-4873-e827-57a344edbc0c"
      },
      "execution_count": 18,
      "outputs": [
        {
          "output_type": "execute_result",
          "data": {
            "text/plain": [
              "{'total': '93622',\n",
              " 'address': '207 SAN JACINTO BLVD STE 200',\n",
              " 'end_date': '2017-10-31T00:00:00.000',\n",
              " 'restaurant_name': 'MWD AUSTIN DOWNTOWN, LLC'}"
            ]
          },
          "metadata": {},
          "execution_count": 18
        }
      ]
    },
    {
      "cell_type": "markdown",
      "metadata": {
        "id": "kAMF1mlbxbiD"
      },
      "source": [
        "* Then create a new `Receipt` instance with data from the selected dictionary. And assign it to the variable `first_receipt`.\n",
        "\n",
        "> We're not looking for anything fancy here, just get pass through the correct data when creating our instance."
      ]
    },
    {
      "cell_type": "code",
      "execution_count": 19,
      "metadata": {
        "id": "oq-xSM51xbiD"
      },
      "outputs": [],
      "source": [
        "first_receipt = Receipt(total, address, end_date, restaurant_name)"
      ]
    },
    {
      "cell_type": "code",
      "source": [
        "first_receipt"
      ],
      "metadata": {
        "colab": {
          "base_uri": "https://localhost:8080/"
        },
        "id": "R2S_QsfJ1u-9",
        "outputId": "67fe6cca-0f1e-4f76-e362-4bec54b8e53f"
      },
      "execution_count": 20,
      "outputs": [
        {
          "output_type": "execute_result",
          "data": {
            "text/plain": [
              "<__main__.Receipt at 0x7f161d698bb0>"
            ]
          },
          "metadata": {},
          "execution_count": 20
        }
      ]
    },
    {
      "cell_type": "markdown",
      "metadata": {
        "id": "PofN2X4txbiD"
      },
      "source": [
        "### 2. Creating a list of receipts"
      ]
    },
    {
      "cell_type": "markdown",
      "metadata": {
        "id": "uXI87sk-xbiD"
      },
      "source": [
        "Now that we have accomplished turned one dictionary into an object, let's turn our list of dictionaries into a list of objects.  Remember that the list of our receipt dictionaries is stored in the `restaurant_receipts` variable.  Coerce the list of `restaurant_receipts` into a list of objects, and assign it to a variable named `receipts`."
      ]
    },
    {
      "cell_type": "code",
      "execution_count": null,
      "metadata": {
        "id": "j7zSh0OJxbiD"
      },
      "outputs": [],
      "source": [
        "\n"
      ]
    },
    {
      "cell_type": "code",
      "source": [
        "restaurant_receipts_objects = []\n",
        "for restaurant_receipt in restaurant_receipts:\n",
        "  total = restaurant_receipt['total_receipts']\n",
        "  address = restaurant_receipt['location_address']\n",
        "  end_date = restaurant_receipt['obligation_end_date_yyyymmdd']\n",
        "  restaurant_name = restaurant_receipt['taxpayer_name']\n",
        "  restaurant_receipt_dict = {'total': total, 'address': address, 'end_date': end_date, 'restaurant_name': restaurant_name}\n",
        "  restaurant_receipt_obj = Receipt(total, address, end_date, restaurant_name)\n",
        "  restaurant_receipts_objects.append(restaurant_receipt_obj)"
      ],
      "metadata": {
        "id": "lpFWlzYj2lXl"
      },
      "execution_count": 22,
      "outputs": []
    },
    {
      "cell_type": "code",
      "source": [
        "receipts = restaurant_receipts_objects\n",
        "receipts"
      ],
      "metadata": {
        "id": "vrAKFttf3zJQ"
      },
      "execution_count": null,
      "outputs": []
    },
    {
      "cell_type": "markdown",
      "metadata": {
        "id": "yTEFdiK7xbiD"
      },
      "source": [
        "### Summary"
      ]
    },
    {
      "cell_type": "markdown",
      "metadata": {
        "id": "XsfsmcdgxbiD"
      },
      "source": [
        "In this lesson, we took the first step to using objects to clean up our code.\n",
        "We did so by creating a new `Receipt` instance out of a dictionary that we received from the API.  And we used our old approach of trying to do an operation once before looping through our data.  In the next lesson, we'll continue to refactor our codebase."
      ]
    }
  ],
  "metadata": {
    "kernelspec": {
      "display_name": "Python 3 (ipykernel)",
      "language": "python",
      "name": "python3"
    },
    "language_info": {
      "codemirror_mode": {
        "name": "ipython",
        "version": 3
      },
      "file_extension": ".py",
      "mimetype": "text/x-python",
      "name": "python",
      "nbconvert_exporter": "python",
      "pygments_lexer": "ipython3",
      "version": "3.9.7"
    },
    "colab": {
      "provenance": [],
      "include_colab_link": true
    }
  },
  "nbformat": 4,
  "nbformat_minor": 0
}