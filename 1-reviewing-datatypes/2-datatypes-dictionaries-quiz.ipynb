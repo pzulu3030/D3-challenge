{
  "cells": [
    {
      "cell_type": "markdown",
      "metadata": {
        "id": "view-in-github",
        "colab_type": "text"
      },
      "source": [
        "<a href=\"https://colab.research.google.com/github/pzulu3030/D3-challenge/blob/main/1-reviewing-datatypes/2-datatypes-dictionaries-quiz.ipynb\" target=\"_parent\"><img src=\"https://colab.research.google.com/assets/colab-badge.svg\" alt=\"Open In Colab\"/></a>"
      ]
    },
    {
      "cell_type": "markdown",
      "id": "c66a8ada-c9d4-4dc3-9ea2-967c2c015280",
      "metadata": {
        "id": "c66a8ada-c9d4-4dc3-9ea2-967c2c015280"
      },
      "source": [
        "# DataTypes Review Quiz - Strings, Dictionaries, Lists "
      ]
    },
    {
      "cell_type": "markdown",
      "id": "78db23f7-e610-4b8c-a41e-d77ce88617ad",
      "metadata": {
        "id": "78db23f7-e610-4b8c-a41e-d77ce88617ad"
      },
      "source": [
        "### Introduction "
      ]
    },
    {
      "cell_type": "markdown",
      "id": "d756cee7-8575-4b51-bb74-ce017c34889b",
      "metadata": {
        "id": "d756cee7-8575-4b51-bb74-ce017c34889b"
      },
      "source": [
        "In this quiz, we'll review some of our functions with lists, dictionaries, and strings."
      ]
    },
    {
      "cell_type": "markdown",
      "id": "3c1063e1-c4e2-4f9d-83e9-3e9e5835b27d",
      "metadata": {
        "id": "3c1063e1-c4e2-4f9d-83e9-3e9e5835b27d"
      },
      "source": [
        "### Downloading our Data"
      ]
    },
    {
      "cell_type": "code",
      "execution_count": 1,
      "id": "ac0e1bd4-05d0-4c90-b699-6796b0f610b5",
      "metadata": {
        "id": "ac0e1bd4-05d0-4c90-b699-6796b0f610b5"
      },
      "outputs": [],
      "source": [
        "import pandas as pd \n",
        "url = \"https://raw.githubusercontent.com/fivethirtyeight/data/master/congress-age/congress-terms.csv\"\n",
        "\n",
        "df = pd.read_csv(url)\n",
        "congress_persons = df.to_dict('records')"
      ]
    },
    {
      "cell_type": "code",
      "execution_count": 2,
      "id": "b7276e18-9869-4425-9628-8da9a769bb60",
      "metadata": {
        "colab": {
          "base_uri": "https://localhost:8080/"
        },
        "id": "b7276e18-9869-4425-9628-8da9a769bb60",
        "outputId": "0d1a441b-e508-4acd-e8f2-f8109a82e59b"
      },
      "outputs": [
        {
          "output_type": "execute_result",
          "data": {
            "text/plain": [
              "[{'congress': 80,\n",
              "  'chamber': 'house',\n",
              "  'bioguide': 'M000112',\n",
              "  'firstname': 'Joseph',\n",
              "  'middlename': 'Jefferson',\n",
              "  'lastname': 'Mansfield',\n",
              "  'suffix': nan,\n",
              "  'birthday': '1861-02-09',\n",
              "  'state': 'TX',\n",
              "  'party': 'D',\n",
              "  'incumbent': 'Yes',\n",
              "  'termstart': '1947-01-03',\n",
              "  'age': 85.9},\n",
              " {'congress': 80,\n",
              "  'chamber': 'house',\n",
              "  'bioguide': 'D000448',\n",
              "  'firstname': 'Robert',\n",
              "  'middlename': 'Lee',\n",
              "  'lastname': 'Doughton',\n",
              "  'suffix': nan,\n",
              "  'birthday': '1863-11-07',\n",
              "  'state': 'NC',\n",
              "  'party': 'D',\n",
              "  'incumbent': 'Yes',\n",
              "  'termstart': '1947-01-03',\n",
              "  'age': 83.2}]"
            ]
          },
          "metadata": {},
          "execution_count": 2
        }
      ],
      "source": [
        "congress_persons[:2]"
      ]
    },
    {
      "cell_type": "markdown",
      "id": "3387e099-c56d-42f0-a777-aa204918c9b6",
      "metadata": {
        "id": "3387e099-c56d-42f0-a777-aa204918c9b6"
      },
      "source": [
        "### Exploring our Data"
      ]
    },
    {
      "cell_type": "markdown",
      "id": "40af6e4c-65a7-47b2-a0ae-321c8a2455d6",
      "metadata": {
        "id": "40af6e4c-65a7-47b2-a0ae-321c8a2455d6"
      },
      "source": [
        "Let's begin by selecting the first element in the list above."
      ]
    },
    {
      "cell_type": "code",
      "execution_count": 3,
      "id": "1d2b9968-91a7-4a55-acc5-0ac975cd5c53",
      "metadata": {
        "colab": {
          "base_uri": "https://localhost:8080/"
        },
        "id": "1d2b9968-91a7-4a55-acc5-0ac975cd5c53",
        "outputId": "130997bb-02bd-4ce3-b0a5-71a312098398"
      },
      "outputs": [
        {
          "output_type": "execute_result",
          "data": {
            "text/plain": [
              "{'congress': 80,\n",
              " 'chamber': 'house',\n",
              " 'bioguide': 'M000112',\n",
              " 'firstname': 'Joseph',\n",
              " 'middlename': 'Jefferson',\n",
              " 'lastname': 'Mansfield',\n",
              " 'suffix': nan,\n",
              " 'birthday': '1861-02-09',\n",
              " 'state': 'TX',\n",
              " 'party': 'D',\n",
              " 'incumbent': 'Yes',\n",
              " 'termstart': '1947-01-03',\n",
              " 'age': 85.9}"
            ]
          },
          "metadata": {},
          "execution_count": 3
        }
      ],
      "source": [
        "mansfield = congress_persons[0]\n",
        "\n",
        "mansfield\n",
        "\n",
        "# {'congress': 80,\n",
        "#  'chamber': 'house',\n",
        "#  'bioguide': 'M000112',\n",
        "#  'firstname': 'Joseph',\n",
        "#  'middlename': 'Jefferson',\n",
        "#  'lastname': 'Mansfield',\n",
        "#  'suffix': nan,\n",
        "#  'birthday': '1861-02-09',\n",
        "#  'state': 'TX',\n",
        "#  'party': 'D',\n",
        "#  'incumbent': 'Yes',\n",
        "#  'termstart': '1947-01-03',\n",
        "#  'age': 85.9}"
      ]
    },
    {
      "cell_type": "markdown",
      "id": "a52dbae6-8621-4b40-96c5-66d297e7efb2",
      "metadata": {
        "id": "a52dbae6-8621-4b40-96c5-66d297e7efb2"
      },
      "source": [
        "Now return a list of the values in the dictionary above."
      ]
    },
    {
      "cell_type": "code",
      "execution_count": 4,
      "id": "1303592e-c21b-43b0-aa10-5e6820dce437",
      "metadata": {
        "colab": {
          "base_uri": "https://localhost:8080/"
        },
        "id": "1303592e-c21b-43b0-aa10-5e6820dce437",
        "outputId": "3eae9b88-6d17-41aa-d0f1-e31dd4c2e13e"
      },
      "outputs": [
        {
          "output_type": "execute_result",
          "data": {
            "text/plain": [
              "dict_values([80, 'house', 'M000112', 'Joseph', 'Jefferson', 'Mansfield', nan, '1861-02-09', 'TX', 'D', 'Yes', '1947-01-03', 85.9])"
            ]
          },
          "metadata": {},
          "execution_count": 4
        }
      ],
      "source": [
        "mansfield.values()\n",
        "\n",
        "# [80, 'house', 'M000112', 'Joseph', 'Jefferson', 'Mansfield', nan, '1861-02-09', 'TX', 'D', 'Yes', '1947-01-03', 85.9]"
      ]
    },
    {
      "cell_type": "markdown",
      "id": "8f33cb1a-88e5-45a5-84f3-ba83338c1b94",
      "metadata": {
        "id": "8f33cb1a-88e5-45a5-84f3-ba83338c1b94"
      },
      "source": [
        "Then return a *list* of the first five keys, sorted alphabetically in the dictionary above."
      ]
    },
    {
      "cell_type": "markdown",
      "id": "185c7648-c86b-4a7c-a992-0442f6cf7822",
      "metadata": {
        "id": "185c7648-c86b-4a7c-a992-0442f6cf7822"
      },
      "source": [
        "> Remember we can use the `sorted` function to sort a list.\n",
        "\n",
        "```python \n",
        "sorted(['hello', 'everyone', 'here'])\n",
        "\n",
        "# ['everyone', 'hello', 'here']\n",
        "```"
      ]
    },
    {
      "cell_type": "code",
      "execution_count": 21,
      "id": "c0c8c09c-2030-4a2f-a165-b0de231e815d",
      "metadata": {
        "colab": {
          "base_uri": "https://localhost:8080/"
        },
        "id": "c0c8c09c-2030-4a2f-a165-b0de231e815d",
        "outputId": "4c09f364-c957-421c-b2bd-8d5ea372eb1e"
      },
      "outputs": [
        {
          "output_type": "execute_result",
          "data": {
            "text/plain": [
              "['age', 'bioguide', 'birthday', 'chamber', 'congress']"
            ]
          },
          "metadata": {},
          "execution_count": 21
        }
      ],
      "source": [
        "mansfield_keys=list(mansfield.keys())\n",
        "sorted_mansfield_keys=sorted(mansfield_keys)[0:5]\n",
        "sorted_mansfield_keys\n",
        "# ['age', 'bioguide', 'birthday', 'chamber', 'congress']"
      ]
    },
    {
      "cell_type": "markdown",
      "id": "f259e89d-7585-4d36-9f4e-bc86204f8087",
      "metadata": {
        "id": "f259e89d-7585-4d36-9f4e-bc86204f8087"
      },
      "source": [
        "Next, let's select the birthday of the `Mansfield`. "
      ]
    },
    {
      "cell_type": "code",
      "execution_count": 22,
      "id": "84d814ce-fcfe-4e4a-b2c5-6b355b74992c",
      "metadata": {
        "colab": {
          "base_uri": "https://localhost:8080/",
          "height": 38
        },
        "id": "84d814ce-fcfe-4e4a-b2c5-6b355b74992c",
        "outputId": "d9b02c02-7deb-4779-92cf-a58e1e8603ff"
      },
      "outputs": [
        {
          "output_type": "execute_result",
          "data": {
            "text/plain": [
              "'1861-02-09'"
            ],
            "application/vnd.google.colaboratory.intrinsic+json": {
              "type": "string"
            }
          },
          "metadata": {},
          "execution_count": 22
        }
      ],
      "source": [
        "mansfield_bday = mansfield['birthday']\n",
        "mansfield_bday"
      ]
    },
    {
      "cell_type": "code",
      "source": [
        "type(mansfield_bday)\n",
        "mansfield_bday.split('-')"
      ],
      "metadata": {
        "colab": {
          "base_uri": "https://localhost:8080/"
        },
        "id": "X2m2qjeZusPg",
        "outputId": "1459820a-1a90-4f24-83c6-f50355ea2ca3"
      },
      "id": "X2m2qjeZusPg",
      "execution_count": 28,
      "outputs": [
        {
          "output_type": "execute_result",
          "data": {
            "text/plain": [
              "['1861', '02', '09']"
            ]
          },
          "metadata": {},
          "execution_count": 28
        }
      ]
    },
    {
      "cell_type": "markdown",
      "id": "31722537-f0ee-44a1-99b0-e87cfe322664",
      "metadata": {
        "id": "31722537-f0ee-44a1-99b0-e87cfe322664"
      },
      "source": [
        "And then convert the birthday to a list that has three elements, year, month, and day."
      ]
    },
    {
      "cell_type": "code",
      "execution_count": 41,
      "id": "29d3885f-4531-4db0-9b88-1116fc7b99f6",
      "metadata": {
        "colab": {
          "base_uri": "https://localhost:8080/"
        },
        "id": "29d3885f-4531-4db0-9b88-1116fc7b99f6",
        "outputId": "bd0647fb-964c-40df-c167-0235eb9345d1"
      },
      "outputs": [
        {
          "output_type": "execute_result",
          "data": {
            "text/plain": [
              "['1861', '02', '09']"
            ]
          },
          "metadata": {},
          "execution_count": 41
        }
      ],
      "source": [
        "\n",
        "birthday_components = mansfield_bday.split('-')\n",
        "birthday_components\n",
        "# ['1861', '02', '09']"
      ]
    },
    {
      "cell_type": "markdown",
      "id": "01b821ff-1964-45b6-9db7-337030406887",
      "metadata": {
        "id": "01b821ff-1964-45b6-9db7-337030406887"
      },
      "source": [
        "Then use the list of the `birthday_components` above to create a new list, where each of the elements is an integer.  Assign the resulting list to the variable `birthday_numbers`."
      ]
    },
    {
      "cell_type": "code",
      "execution_count": 58,
      "id": "356eee48-13ec-4f2a-b93b-be43c585b253",
      "metadata": {
        "colab": {
          "base_uri": "https://localhost:8080/"
        },
        "id": "356eee48-13ec-4f2a-b93b-be43c585b253",
        "outputId": "f0f6f422-7740-4f03-9241-83f6137b2b80"
      },
      "outputs": [
        {
          "output_type": "execute_result",
          "data": {
            "text/plain": [
              "[1861, 2, 9]"
            ]
          },
          "metadata": {},
          "execution_count": 58
        }
      ],
      "source": [
        "birthday_numbers = []\n",
        "for birthday_number in birthday_components:\n",
        "  birthday_number=int(birthday_number)\n",
        "  birthday_numbers.append(birthday_number)\n",
        "birthday_numbers\n",
        "# [1861, 2, 9]"
      ]
    },
    {
      "cell_type": "markdown",
      "id": "a2a4c424-3336-450f-8920-f6b542c6f07d",
      "metadata": {
        "id": "a2a4c424-3336-450f-8920-f6b542c6f07d"
      },
      "source": [
        "Finally, use the `birthday_components` list above to create a new string where each of the elements above is separated by a comma so we get a string that looks like the following: `'1861, 02, 09'`. "
      ]
    },
    {
      "cell_type": "code",
      "execution_count": 71,
      "id": "d91997fb-6a22-4736-b6bf-370a17794b4f",
      "metadata": {
        "colab": {
          "base_uri": "https://localhost:8080/"
        },
        "id": "d91997fb-6a22-4736-b6bf-370a17794b4f",
        "outputId": "616271fb-b0b3-4eb1-f754-48b0c76a4f01"
      },
      "outputs": [
        {
          "output_type": "stream",
          "name": "stdout",
          "text": [
            "' 1861, 02, 09,'\n"
          ]
        }
      ],
      "source": [
        "mystring=''\n",
        "for x in birthday_components:\n",
        "  mystring +=' ' + x + ','\n",
        "print('\\'' + mystring + '\\'')\n",
        "# '1861, 02, 09'"
      ]
    },
    {
      "cell_type": "code",
      "source": [
        "birthday_components"
      ],
      "metadata": {
        "id": "PUkBSiTCxWms"
      },
      "id": "PUkBSiTCxWms",
      "execution_count": null,
      "outputs": []
    }
  ],
  "metadata": {
    "kernelspec": {
      "display_name": "Python 3 (ipykernel)",
      "language": "python",
      "name": "python3"
    },
    "language_info": {
      "codemirror_mode": {
        "name": "ipython",
        "version": 3
      },
      "file_extension": ".py",
      "mimetype": "text/x-python",
      "name": "python",
      "nbconvert_exporter": "python",
      "pygments_lexer": "ipython3",
      "version": "3.10.6"
    },
    "colab": {
      "provenance": [],
      "include_colab_link": true
    }
  },
  "nbformat": 4,
  "nbformat_minor": 5
}